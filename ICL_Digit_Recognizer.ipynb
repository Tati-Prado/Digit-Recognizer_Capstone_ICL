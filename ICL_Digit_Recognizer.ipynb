{
 "cells": [
  {
   "cell_type": "markdown",
   "id": "4a24e845",
   "metadata": {},
   "source": [
    "# Digit Recognizer\n",
    "#### Learn computer vision fundamentals with the famous MNIST data\n",
    "Link: https://www.kaggle.com/competitions/digit-recognizer/overview\n",
    "\n",
    "Name: Tatiana Prado Santos"
   ]
  },
  {
   "cell_type": "markdown",
   "id": "e187af72",
   "metadata": {},
   "source": [
    "### 1. Setup and Imports"
   ]
  },
  {
   "cell_type": "code",
   "execution_count": 1,
   "id": "08986f7f",
   "metadata": {},
   "outputs": [
    {
     "name": "stderr",
     "output_type": "stream",
     "text": [
      "2024-06-03 19:38:09.300755: I tensorflow/core/platform/cpu_feature_guard.cc:182] This TensorFlow binary is optimized to use available CPU instructions in performance-critical operations.\n",
      "To enable the following instructions: AVX2 FMA, in other operations, rebuild TensorFlow with the appropriate compiler flags.\n"
     ]
    },
    {
     "name": "stdout",
     "output_type": "stream",
     "text": [
      "Keras Tuner version: 1.4.7\n",
      "TensorFlow version: 2.14.0\n"
     ]
    }
   ],
   "source": [
    "import pandas as pd\n",
    "import numpy as np\n",
    "import tensorflow as tf\n",
    "from tensorflow import keras\n",
    "from tensorflow.keras.models import Sequential\n",
    "from tensorflow.keras.layers import Conv2D, MaxPooling2D, Flatten, Dense\n",
    "from tensorflow.keras.utils import to_categorical\n",
    "import keras_tuner\n",
    "from keras_tuner import Hyperband, Objective\n",
    "import matplotlib.pyplot as plt\n",
    "\n",
    "# Print versions for clarity and debugging\n",
    "print(\"Keras Tuner version:\", keras_tuner.__version__)\n",
    "print(\"TensorFlow version:\", tf.__version__)"
   ]
  },
  {
   "cell_type": "markdown",
   "id": "c47bc773",
   "metadata": {},
   "source": [
    "### 2. Data Loading and Preprocessing"
   ]
  },
  {
   "cell_type": "code",
   "execution_count": 2,
   "id": "f57537c0",
   "metadata": {},
   "outputs": [],
   "source": [
    "# Load the datasets\n",
    "train = pd.read_csv('train.csv')\n",
    "test = pd.read_csv('test.csv')\n",
    "sample_submission = pd.read_csv('sample_submission.csv')\n",
    "\n",
    "x_train = train.drop('label', axis=1).values.reshape(-1, 28, 28, 1) / 255.0\n",
    "y_train = to_categorical(train['label'], num_classes=10)\n",
    "x_test = test.values.reshape(-1, 28, 28, 1) / 255.0"
   ]
  },
  {
   "cell_type": "markdown",
   "id": "020c3dff",
   "metadata": {},
   "source": [
    "### 3. Model Definition"
   ]
  },
  {
   "cell_type": "code",
   "execution_count": 3,
   "id": "a7277e49",
   "metadata": {},
   "outputs": [],
   "source": [
    "def build_model(hp):\n",
    "    model = Sequential([\n",
    "        Conv2D(\n",
    "            filters=hp.Int('conv_1_filters', min_value=32, max_value=64, step=16),\n",
    "            kernel_size=hp.Choice('conv_1_kernel_size', values=[3, 5]),\n",
    "            activation='relu', input_shape=(28, 28, 1)),\n",
    "        MaxPooling2D(pool_size=2),\n",
    "        Conv2D(\n",
    "            filters=hp.Int('conv_2_filters', min_value=32, max_value=64, step=16),\n",
    "            kernel_size=hp.Choice('conv_2_kernel_size', values=[3, 5]),\n",
    "            activation='relu'),\n",
    "        MaxPooling2D(pool_size=2),\n",
    "        Flatten(),\n",
    "        Dense(\n",
    "            units=hp.Int('dense_units', min_value=32, max_value=64, step=16), activation='relu'),\n",
    "        Dense(10, activation='softmax')\n",
    "    ])\n",
    "    model.compile(\n",
    "        optimizer=keras.optimizers.Adam(hp.Choice('learning_rate', values=[1e-3, 1e-4])),\n",
    "        loss='categorical_crossentropy', metrics=['accuracy'])\n",
    "    return model"
   ]
  },
  {
   "cell_type": "markdown",
   "id": "ee56cc56",
   "metadata": {},
   "source": [
    "### 4. Hyperparameter Tuning"
   ]
  },
  {
   "cell_type": "code",
   "execution_count": 4,
   "id": "e455ebbf",
   "metadata": {},
   "outputs": [
    {
     "name": "stdout",
     "output_type": "stream",
     "text": [
      "Trial 30 Complete [00h 02m 39s]\n",
      "val_accuracy: 0.9815475940704346\n",
      "\n",
      "Best val_accuracy So Far: 0.991428554058075\n",
      "Total elapsed time: 00h 59m 11s\n"
     ]
    }
   ],
   "source": [
    "tuner = Hyperband(\n",
    "    build_model,\n",
    "    objective='val_accuracy',\n",
    "    max_epochs=10,\n",
    "    directory='output',\n",
    "    project_name='mnist_hyperband'\n",
    ")\n",
    "\n",
    "early_stopping = tf.keras.callbacks.EarlyStopping(monitor='val_accuracy', patience=3)\n",
    "tuner.search(x_train, y_train, epochs=10, validation_split=0.2, callbacks=[early_stopping], batch_size=64)"
   ]
  },
  {
   "cell_type": "markdown",
   "id": "7635efb0",
   "metadata": {},
   "source": [
    "### 5. Model Training and Evaluation"
   ]
  },
  {
   "cell_type": "code",
   "execution_count": 5,
   "id": "33006d54",
   "metadata": {},
   "outputs": [
    {
     "name": "stdout",
     "output_type": "stream",
     "text": [
      "Epoch 1/50\n",
      "525/525 [==============================] - 35s 66ms/step - loss: 0.1972 - accuracy: 0.9384 - val_loss: 0.0576 - val_accuracy: 0.9818\n",
      "Epoch 2/50\n",
      "525/525 [==============================] - 32s 61ms/step - loss: 0.0544 - accuracy: 0.9835 - val_loss: 0.0555 - val_accuracy: 0.9836\n",
      "Epoch 3/50\n",
      "525/525 [==============================] - 33s 64ms/step - loss: 0.0358 - accuracy: 0.9885 - val_loss: 0.0435 - val_accuracy: 0.9869\n",
      "Epoch 4/50\n",
      "525/525 [==============================] - 35s 66ms/step - loss: 0.0254 - accuracy: 0.9916 - val_loss: 0.0461 - val_accuracy: 0.9876\n",
      "Epoch 5/50\n",
      "525/525 [==============================] - 34s 64ms/step - loss: 0.0186 - accuracy: 0.9936 - val_loss: 0.0442 - val_accuracy: 0.9862\n",
      "Epoch 6/50\n",
      "525/525 [==============================] - 34s 65ms/step - loss: 0.0159 - accuracy: 0.9948 - val_loss: 0.0431 - val_accuracy: 0.9885\n",
      "Epoch 7/50\n",
      "525/525 [==============================] - 33s 63ms/step - loss: 0.0120 - accuracy: 0.9959 - val_loss: 0.0412 - val_accuracy: 0.9899\n",
      "Epoch 8/50\n",
      "525/525 [==============================] - 33s 63ms/step - loss: 0.0116 - accuracy: 0.9956 - val_loss: 0.0498 - val_accuracy: 0.9869\n",
      "Epoch 9/50\n",
      "525/525 [==============================] - 33s 62ms/step - loss: 0.0070 - accuracy: 0.9977 - val_loss: 0.0473 - val_accuracy: 0.9886\n",
      "Epoch 10/50\n",
      "525/525 [==============================] - 34s 65ms/step - loss: 0.0117 - accuracy: 0.9957 - val_loss: 0.0423 - val_accuracy: 0.9890\n",
      "Epoch 11/50\n",
      "525/525 [==============================] - 34s 65ms/step - loss: 0.0039 - accuracy: 0.9990 - val_loss: 0.0443 - val_accuracy: 0.9907\n",
      "Epoch 12/50\n",
      "525/525 [==============================] - 36s 69ms/step - loss: 0.0049 - accuracy: 0.9984 - val_loss: 0.0546 - val_accuracy: 0.9888\n",
      "Epoch 13/50\n",
      "525/525 [==============================] - 33s 62ms/step - loss: 0.0084 - accuracy: 0.9974 - val_loss: 0.0601 - val_accuracy: 0.9889\n",
      "Epoch 14/50\n",
      "525/525 [==============================] - 34s 65ms/step - loss: 0.0063 - accuracy: 0.9980 - val_loss: 0.0468 - val_accuracy: 0.9911\n",
      "Epoch 15/50\n",
      "525/525 [==============================] - 32s 62ms/step - loss: 0.0030 - accuracy: 0.9990 - val_loss: 0.0503 - val_accuracy: 0.9896\n",
      "Epoch 16/50\n",
      "525/525 [==============================] - 33s 63ms/step - loss: 0.0059 - accuracy: 0.9981 - val_loss: 0.0540 - val_accuracy: 0.9898\n",
      "Epoch 17/50\n",
      "525/525 [==============================] - 32s 61ms/step - loss: 0.0058 - accuracy: 0.9979 - val_loss: 0.0508 - val_accuracy: 0.9899\n",
      "Epoch 18/50\n",
      "525/525 [==============================] - 35s 66ms/step - loss: 0.0066 - accuracy: 0.9978 - val_loss: 0.0583 - val_accuracy: 0.9892\n",
      "Epoch 19/50\n",
      "525/525 [==============================] - 34s 65ms/step - loss: 0.0012 - accuracy: 0.9997 - val_loss: 0.0536 - val_accuracy: 0.9919\n",
      "Epoch 20/50\n",
      "525/525 [==============================] - 34s 64ms/step - loss: 6.0656e-04 - accuracy: 0.9998 - val_loss: 0.0664 - val_accuracy: 0.9905\n",
      "Epoch 21/50\n",
      "525/525 [==============================] - 36s 69ms/step - loss: 0.0041 - accuracy: 0.9986 - val_loss: 0.0843 - val_accuracy: 0.9854\n",
      "Epoch 22/50\n",
      "525/525 [==============================] - 38s 71ms/step - loss: 0.0049 - accuracy: 0.9983 - val_loss: 0.0605 - val_accuracy: 0.9906\n",
      "Epoch 23/50\n",
      "525/525 [==============================] - 37s 70ms/step - loss: 0.0034 - accuracy: 0.9988 - val_loss: 0.0597 - val_accuracy: 0.9894\n",
      "Epoch 24/50\n",
      "525/525 [==============================] - 35s 68ms/step - loss: 0.0040 - accuracy: 0.9989 - val_loss: 0.0560 - val_accuracy: 0.9901\n",
      "Epoch 25/50\n",
      "525/525 [==============================] - 36s 69ms/step - loss: 0.0013 - accuracy: 0.9996 - val_loss: 0.0735 - val_accuracy: 0.9894\n",
      "Epoch 26/50\n",
      "525/525 [==============================] - 34s 64ms/step - loss: 0.0035 - accuracy: 0.9989 - val_loss: 0.0624 - val_accuracy: 0.9896\n",
      "Epoch 27/50\n",
      "525/525 [==============================] - 34s 65ms/step - loss: 0.0019 - accuracy: 0.9995 - val_loss: 0.0631 - val_accuracy: 0.9904\n",
      "Epoch 28/50\n",
      "525/525 [==============================] - 36s 69ms/step - loss: 0.0026 - accuracy: 0.9992 - val_loss: 0.0917 - val_accuracy: 0.9875\n",
      "Epoch 29/50\n",
      "525/525 [==============================] - 34s 66ms/step - loss: 0.0054 - accuracy: 0.9980 - val_loss: 0.0733 - val_accuracy: 0.9892\n",
      "Epoch 30/50\n",
      "525/525 [==============================] - 35s 66ms/step - loss: 0.0020 - accuracy: 0.9994 - val_loss: 0.0610 - val_accuracy: 0.9902\n",
      "Epoch 31/50\n",
      "525/525 [==============================] - 36s 69ms/step - loss: 0.0020 - accuracy: 0.9992 - val_loss: 0.0720 - val_accuracy: 0.9901\n",
      "Epoch 32/50\n",
      "525/525 [==============================] - 34s 66ms/step - loss: 0.0030 - accuracy: 0.9989 - val_loss: 0.0782 - val_accuracy: 0.9888\n",
      "Epoch 33/50\n",
      "525/525 [==============================] - 37s 70ms/step - loss: 0.0013 - accuracy: 0.9995 - val_loss: 0.0687 - val_accuracy: 0.9902\n",
      "Epoch 34/50\n",
      "525/525 [==============================] - 36s 68ms/step - loss: 0.0021 - accuracy: 0.9992 - val_loss: 0.0620 - val_accuracy: 0.9908\n",
      "Epoch 35/50\n",
      "525/525 [==============================] - 35s 66ms/step - loss: 5.7503e-04 - accuracy: 0.9999 - val_loss: 0.0709 - val_accuracy: 0.9906\n",
      "Epoch 36/50\n",
      "525/525 [==============================] - 35s 66ms/step - loss: 0.0022 - accuracy: 0.9995 - val_loss: 0.0736 - val_accuracy: 0.9904\n",
      "Epoch 37/50\n",
      "525/525 [==============================] - 35s 67ms/step - loss: 0.0043 - accuracy: 0.9987 - val_loss: 0.0658 - val_accuracy: 0.9904\n",
      "Epoch 38/50\n",
      "525/525 [==============================] - 35s 67ms/step - loss: 0.0031 - accuracy: 0.9989 - val_loss: 0.0608 - val_accuracy: 0.9919\n",
      "Epoch 39/50\n",
      "525/525 [==============================] - 34s 65ms/step - loss: 0.0022 - accuracy: 0.9994 - val_loss: 0.0611 - val_accuracy: 0.9927\n",
      "Epoch 40/50\n",
      "525/525 [==============================] - 36s 68ms/step - loss: 2.2194e-04 - accuracy: 0.9999 - val_loss: 0.0681 - val_accuracy: 0.9926\n",
      "Epoch 41/50\n",
      "525/525 [==============================] - 34s 66ms/step - loss: 1.9314e-05 - accuracy: 1.0000 - val_loss: 0.0667 - val_accuracy: 0.9931\n",
      "Epoch 42/50\n",
      "525/525 [==============================] - 35s 66ms/step - loss: 3.9402e-06 - accuracy: 1.0000 - val_loss: 0.0670 - val_accuracy: 0.9931\n",
      "Epoch 43/50\n",
      "525/525 [==============================] - 36s 68ms/step - loss: 2.7028e-06 - accuracy: 1.0000 - val_loss: 0.0672 - val_accuracy: 0.9929\n",
      "Epoch 44/50\n",
      "525/525 [==============================] - 35s 66ms/step - loss: 2.0843e-06 - accuracy: 1.0000 - val_loss: 0.0675 - val_accuracy: 0.9930\n",
      "Epoch 45/50\n",
      "525/525 [==============================] - 36s 68ms/step - loss: 1.6465e-06 - accuracy: 1.0000 - val_loss: 0.0678 - val_accuracy: 0.9930\n",
      "Epoch 46/50\n",
      "525/525 [==============================] - 35s 68ms/step - loss: 1.3152e-06 - accuracy: 1.0000 - val_loss: 0.0682 - val_accuracy: 0.9930\n",
      "Epoch 47/50\n",
      "525/525 [==============================] - 35s 67ms/step - loss: 1.0557e-06 - accuracy: 1.0000 - val_loss: 0.0687 - val_accuracy: 0.9930\n",
      "Epoch 48/50\n",
      "525/525 [==============================] - 34s 64ms/step - loss: 8.4589e-07 - accuracy: 1.0000 - val_loss: 0.0692 - val_accuracy: 0.9931\n",
      "Epoch 49/50\n",
      "525/525 [==============================] - 35s 68ms/step - loss: 6.7376e-07 - accuracy: 1.0000 - val_loss: 0.0697 - val_accuracy: 0.9931\n",
      "Epoch 50/50\n",
      "525/525 [==============================] - 35s 66ms/step - loss: 5.3846e-07 - accuracy: 1.0000 - val_loss: 0.0704 - val_accuracy: 0.9931\n"
     ]
    }
   ],
   "source": [
    "best_hps = tuner.get_best_hyperparameters(num_trials=1)[0]\n",
    "model = tuner.hypermodel.build(best_hps)\n",
    "history = model.fit(x_train, y_train, epochs=50, validation_split=0.2, batch_size=64)"
   ]
  },
  {
   "cell_type": "markdown",
   "id": "8f981eaf",
   "metadata": {},
   "source": [
    "### 6. Model Saving"
   ]
  },
  {
   "cell_type": "code",
   "execution_count": 6,
   "id": "7205f771",
   "metadata": {},
   "outputs": [
    {
     "name": "stderr",
     "output_type": "stream",
     "text": [
      "/opt/anaconda3/lib/python3.9/site-packages/keras/src/engine/training.py:3079: UserWarning: You are saving your model as an HDF5 file via `model.save()`. This file format is considered legacy. We recommend using instead the native Keras format, e.g. `model.save('my_model.keras')`.\n",
      "  saving_api.save_model(\n"
     ]
    },
    {
     "name": "stdout",
     "output_type": "stream",
     "text": [
      "Model saved successfully to 'mnist_model.h5'.\n",
      "INFO:tensorflow:Assets written to: mnist_model_savedmodel/assets\n"
     ]
    },
    {
     "name": "stderr",
     "output_type": "stream",
     "text": [
      "INFO:tensorflow:Assets written to: mnist_model_savedmodel/assets\n"
     ]
    },
    {
     "name": "stdout",
     "output_type": "stream",
     "text": [
      "Model saved successfully in TensorFlow SavedModel format.\n"
     ]
    }
   ],
   "source": [
    "model.save('mnist_model.h5')\n",
    "print(\"Model saved successfully to 'mnist_model.h5'.\")\n",
    "model.save('mnist_model_savedmodel', save_format='tf')\n",
    "print(\"Model saved successfully in TensorFlow SavedModel format.\")"
   ]
  },
  {
   "cell_type": "code",
   "execution_count": null,
   "id": "2d92a00f",
   "metadata": {},
   "outputs": [],
   "source": []
  }
 ],
 "metadata": {
  "kernelspec": {
   "display_name": "Python 3 (ipykernel)",
   "language": "python",
   "name": "python3"
  },
  "language_info": {
   "codemirror_mode": {
    "name": "ipython",
    "version": 3
   },
   "file_extension": ".py",
   "mimetype": "text/x-python",
   "name": "python",
   "nbconvert_exporter": "python",
   "pygments_lexer": "ipython3",
   "version": "3.9.13"
  }
 },
 "nbformat": 4,
 "nbformat_minor": 5
}
